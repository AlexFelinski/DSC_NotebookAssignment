{
 "cells": [
  {
   "cell_type": "markdown",
   "id": "fe93fd0c-bb3f-4260-8e63-f0bb50e6305b",
   "metadata": {},
   "source": [
    "# Data Science Tools and Ecosystem"
   ]
  },
  {
   "cell_type": "markdown",
   "id": "42f9f9c6-46cd-4866-91c7-5b5f291f3cca",
   "metadata": {},
   "source": [
    "Data Science Tools and Ecosystem are summarized in this notebook."
   ]
  },
  {
   "cell_type": "markdown",
   "id": "b0440142-ee0c-4e04-b939-9d6ca8e9407e",
   "metadata": {},
   "source": [
    "**Objectives:**\n",
    "- List popular languages for Data Science\n",
    "- Share common Data Science libraries\n",
    "- Evaluate simple mathematical equations"
   ]
  },
  {
   "cell_type": "markdown",
   "id": "53ef58ba-a038-4a97-9995-03022e3e368a",
   "metadata": {},
   "source": [
    "Data scientists use languages such as:\n",
    "1. Javascript\n",
    "2. R\n",
    "3. Python"
   ]
  },
  {
   "cell_type": "markdown",
   "id": "f6cd84c9-d8ee-4c25-b2e9-382dce4712d3",
   "metadata": {},
   "source": [
    "Some common libraries used by Data Scientists include:\n",
    "1. Pandas\n",
    "2. NumPy\n",
    "3. SciPy\n",
    "4. TensorFlow"
   ]
  },
  {
   "cell_type": "markdown",
   "id": "bc1fb831-c424-4b97-b5bc-e998b3052642",
   "metadata": {},
   "source": [
    "|Data Science Tools|\n",
    "|------------|\n",
    "|Jupyter|\n",
    "|RStudio|\n",
    "|Spyder|"
   ]
  },
  {
   "cell_type": "markdown",
   "id": "b738ce56-d306-4613-8095-5cb2471d387a",
   "metadata": {},
   "source": [
    "### Below are a few examples of using Python to evaluate arithmetic expressions."
   ]
  },
  {
   "cell_type": "code",
   "execution_count": 2,
   "id": "e2fe929b-3d5d-474e-bd96-0623179c3b59",
   "metadata": {},
   "outputs": [
    {
     "data": {
      "text/plain": [
       "17"
      ]
     },
     "execution_count": 2,
     "metadata": {},
     "output_type": "execute_result"
    }
   ],
   "source": [
    "#multiply then add integers\n",
    "(3*4)+5"
   ]
  },
  {
   "cell_type": "code",
   "execution_count": 9,
   "id": "784a6f67-2050-4b46-9029-c1db27ce635b",
   "metadata": {},
   "outputs": [
    {
     "data": {
      "text/plain": [
       "3.3333333333333335"
      ]
     },
     "execution_count": 9,
     "metadata": {},
     "output_type": "execute_result"
    }
   ],
   "source": [
    "#Divide by 60 to convert 200 minutes to hours\n",
    "200/60"
   ]
  },
  {
   "cell_type": "markdown",
   "id": "44252172-34c8-4186-a4af-8be3af5bcdc4",
   "metadata": {},
   "source": [
    "## Author\n",
    "Alex Felinski"
   ]
  }
 ],
 "metadata": {
  "kernelspec": {
   "display_name": "Python 3 (ipykernel)",
   "language": "python",
   "name": "python3"
  },
  "language_info": {
   "codemirror_mode": {
    "name": "ipython",
    "version": 3
   },
   "file_extension": ".py",
   "mimetype": "text/x-python",
   "name": "python",
   "nbconvert_exporter": "python",
   "pygments_lexer": "ipython3",
   "version": "3.11.9"
  }
 },
 "nbformat": 4,
 "nbformat_minor": 5
}
